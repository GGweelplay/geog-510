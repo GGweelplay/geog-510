{
  "cells": [
    {
      "cell_type": "markdown",
      "metadata": {
        "id": "p9-1XliOWFTq"
      },
      "source": [
        "# Lab 4\n",
        "\n",
        "[![Open In Colab](https://colab.research.google.com/assets/colab-badge.svg)](https://colab.research.google.com/github/GGweelplay/geog-510/blob/lab/HsiangChunChen_lab_04.ipynb)"
      ]
    },
    {
      "cell_type": "markdown",
      "metadata": {
        "id": "-LqJc7RuWFTs"
      },
      "source": [
        "## Exercise 1: Variable Assignment and Basic Operations\n",
        "\n",
        "Create variables to store the following geospatial data:\n",
        "\n",
        "- The latitude and longitude of New York City: 40.7128, -74.0060.\n",
        "- The population of New York City: 8,336,817.\n",
        "- The area of New York City in square kilometers: 783.8.\n",
        "\n",
        "Perform the following tasks:\n",
        "\n",
        "1. Calculate and print the population density of New York City (population per square kilometer).\n",
        "2. Print the coordinates in the format \"Latitude: [latitude], Longitude: [longitude]\"."
      ]
    },
    {
      "cell_type": "code",
      "execution_count": null,
      "metadata": {
        "id": "NxKPtXiLWFTt",
        "colab": {
          "base_uri": "https://localhost:8080/"
        },
        "outputId": "c526ef48-6f06-4640-f61a-eee86785ed26"
      },
      "outputs": [
        {
          "output_type": "stream",
          "name": "stdout",
          "text": [
            "Population density of New York City: 10636.408522582293\n",
            "Latitude: 40.7128, Longitude: -74.006\n"
          ]
        }
      ],
      "source": [
        "NYC_latlon = (40.7128, -74.0060)\n",
        "NYC_pop = 8336817\n",
        "NYC_area_sqkm = 783.8\n",
        "\n",
        "NYC_pop_den = NYC_pop / NYC_area_sqkm\n",
        "print(f\"Population density of New York City: {NYC_pop_den}\")\n",
        "print(f\"Latitude: {NYC_latlon[0]}, Longitude: {NYC_latlon[1]}\")"
      ]
    },
    {
      "cell_type": "markdown",
      "metadata": {
        "id": "erVVtfkfWFTt"
      },
      "source": [
        "## Exercise 2: Working with Strings\n",
        "\n",
        "Create a string variable to store the name of a city, such as \"San Francisco\". Perform the following operations:\n",
        "\n",
        "1. Convert the string to lowercase and print the result.\n",
        "2. Convert the string to uppercase and print the result.\n",
        "3. Replace \"San\" with \"Los\" in the city name and print the new string."
      ]
    },
    {
      "cell_type": "code",
      "execution_count": null,
      "metadata": {
        "id": "jp4SXnm1WFTu",
        "colab": {
          "base_uri": "https://localhost:8080/"
        },
        "outputId": "7b4d26bf-082c-4123-fc05-b2c03a744fe1"
      },
      "outputs": [
        {
          "output_type": "stream",
          "name": "stdout",
          "text": [
            "san francisco\n",
            "SAN FRANCISCO\n",
            "Los Francisco\n"
          ]
        }
      ],
      "source": [
        "city_name = \"San Francisco\"\n",
        "\n",
        "print(city_name.lower())\n",
        "print(city_name.upper())\n",
        "print(city_name.replace(\"San\", \"Los\"))"
      ]
    },
    {
      "cell_type": "markdown",
      "metadata": {
        "id": "GsPYot7gWFTu"
      },
      "source": [
        "## Exercise 3: Using Lists\n",
        "\n",
        "Create a list of tuples, where each tuple contains the name of a city and its corresponding latitude and longitude:\n",
        "\n",
        "- New York City: (40.7128, -74.0060)\n",
        "- Los Angeles: (34.0522, -118.2437)\n",
        "- Chicago: (41.8781, -87.6298)\n",
        "\n",
        "Perform the following tasks:\n",
        "\n",
        "1. Add a new city (e.g., Miami: (25.7617, -80.1918)) to the list.\n",
        "2. Print the entire list of cities.\n",
        "3. Slice the list to print only the first two cities."
      ]
    },
    {
      "cell_type": "code",
      "execution_count": null,
      "metadata": {
        "id": "bcIKUQj8WFTu",
        "colab": {
          "base_uri": "https://localhost:8080/"
        },
        "outputId": "68731774-c160-40f1-996a-4c15714a85e8"
      },
      "outputs": [
        {
          "output_type": "stream",
          "name": "stdout",
          "text": [
            "[('New York City', (40.7128, -74.006)), ('Los Angeles', (34.0522, -118.2437)), ('Chicago', (41.8781, -87.6298)), ('Miami', (25.7617, -80.1918))]\n",
            "[('New York City', (40.7128, -74.006)), ('Los Angeles', (34.0522, -118.2437))]\n"
          ]
        }
      ],
      "source": [
        "city_list = [(\"New York City\", (40.7128, -74.0060)), (\"Los Angeles\", (34.0522, -118.2437)), (\"Chicago\", (41.8781, -87.6298))]\n",
        "\n",
        "city_list.append((\"Miami\", (25.7617, -80.1918)))\n",
        "print(city_list)\n",
        "print(city_list[:2])"
      ]
    },
    {
      "cell_type": "markdown",
      "metadata": {
        "id": "BYXxkTi8WFTu"
      },
      "source": [
        "## Exercise 4: Using Tuples\n",
        "\n",
        "Create a tuple to store the coordinates (latitude, longitude) of the Eiffel Tower: (48.8584, 2.2945). Perform the following tasks:\n",
        "\n",
        "1. Access and print the latitude and longitude values from the tuple.\n",
        "2. Try to change the latitude value to 48.8585. What happens? Explain why."
      ]
    },
    {
      "cell_type": "code",
      "execution_count": null,
      "metadata": {
        "id": "-vWVZbPOWFTv",
        "colab": {
          "base_uri": "https://localhost:8080/",
          "height": 193
        },
        "outputId": "a7f0e075-e9a7-45c7-b2ee-3fc402a3fe65"
      },
      "outputs": [
        {
          "output_type": "stream",
          "name": "stdout",
          "text": [
            "48.8584 2.2945\n"
          ]
        },
        {
          "output_type": "error",
          "ename": "TypeError",
          "evalue": "'tuple' object does not support item assignment",
          "traceback": [
            "\u001b[0;31m---------------------------------------------------------------------------\u001b[0m",
            "\u001b[0;31mTypeError\u001b[0m                                 Traceback (most recent call last)",
            "\u001b[0;32m<ipython-input-6-4ee67ce2171b>\u001b[0m in \u001b[0;36m<cell line: 0>\u001b[0;34m()\u001b[0m\n\u001b[1;32m      2\u001b[0m \u001b[0;34m\u001b[0m\u001b[0m\n\u001b[1;32m      3\u001b[0m \u001b[0mprint\u001b[0m\u001b[0;34m(\u001b[0m\u001b[0mET_latlon\u001b[0m\u001b[0;34m[\u001b[0m\u001b[0;36m0\u001b[0m\u001b[0;34m]\u001b[0m\u001b[0;34m,\u001b[0m \u001b[0mET_latlon\u001b[0m\u001b[0;34m[\u001b[0m\u001b[0;36m1\u001b[0m\u001b[0;34m]\u001b[0m\u001b[0;34m)\u001b[0m\u001b[0;34m\u001b[0m\u001b[0;34m\u001b[0m\u001b[0m\n\u001b[0;32m----> 4\u001b[0;31m \u001b[0mET_latlon\u001b[0m\u001b[0;34m[\u001b[0m\u001b[0;36m0\u001b[0m\u001b[0;34m]\u001b[0m \u001b[0;34m=\u001b[0m \u001b[0;36m48.8585\u001b[0m\u001b[0;34m\u001b[0m\u001b[0;34m\u001b[0m\u001b[0m\n\u001b[0m",
            "\u001b[0;31mTypeError\u001b[0m: 'tuple' object does not support item assignment"
          ]
        }
      ],
      "source": [
        "ET_latlon = (48.8584, 2.2945)\n",
        "\n",
        "print(ET_latlon[0], ET_latlon[1])\n",
        "ET_latlon[0] = 48.8585"
      ]
    },
    {
      "cell_type": "markdown",
      "source": [
        "Exercise 4 answer: This is because tuples are immutable sequences, meaning we cannot directly change the values stored in a tuple."
      ],
      "metadata": {
        "id": "a3aC-EX6Y63R"
      }
    },
    {
      "cell_type": "markdown",
      "metadata": {
        "id": "kJ7z79BKWFTv"
      },
      "source": [
        "## Exercise 5: Working with Sets\n",
        "\n",
        "Create a set of countries you have visited, such as {\"USA\", \"France\", \"Germany\"}. Perform the following tasks:\n",
        "\n",
        "1. Add a new country to the set.\n",
        "2. Try to add the same country again. What happens?\n",
        "3. Print the updated set."
      ]
    },
    {
      "cell_type": "code",
      "execution_count": null,
      "metadata": {
        "id": "yb8acy3dWFTv",
        "colab": {
          "base_uri": "https://localhost:8080/"
        },
        "outputId": "899212f8-ced9-481b-b6cc-9f8971570f15"
      },
      "outputs": [
        {
          "output_type": "stream",
          "name": "stdout",
          "text": [
            "{'France', 'Germany', 'USA', 'Italy'}\n",
            "{'France', 'Germany', 'USA', 'Italy'}\n",
            "The newly added 'USA' does not appear in the set because sets do not allow duplicate values.\n",
            "Updated set: {'France', 'Germany', 'USA', 'Italy'}\n"
          ]
        }
      ],
      "source": [
        "countries_set = set([\"USA\", \"France\", \"Germany\"])\n",
        "\n",
        "countries_set.add(\"Italy\")\n",
        "print(countries_set)\n",
        "countries_set.add(\"USA\")\n",
        "print(countries_set)\n",
        "print(\"The newly added 'USA' does not appear in the set because sets do not allow duplicate values.\")\n",
        "print(f\"Updated set: {countries_set}\")"
      ]
    },
    {
      "cell_type": "markdown",
      "metadata": {
        "id": "NYBSNZJ3WFTv"
      },
      "source": [
        "## Exercise 6: Working with Dictionaries\n",
        "\n",
        "Create a dictionary to store information about a specific geospatial feature, such as a river:\n",
        "\n",
        "- Name: \"Amazon River\"\n",
        "- Length: 6400 km\n",
        "- Countries: [\"Brazil\", \"Peru\", \"Colombia\"]\n",
        "\n",
        "Perform the following tasks:\n",
        "\n",
        "1. Add a new key-value pair to the dictionary to store the river's average discharge (e.g., 209,000 m³/s).\n",
        "2. Update the length of the river to 6992 km.\n",
        "3. Print the dictionary."
      ]
    },
    {
      "cell_type": "code",
      "execution_count": null,
      "metadata": {
        "id": "QXhNZfWNWFTv",
        "colab": {
          "base_uri": "https://localhost:8080/"
        },
        "outputId": "0ac912dd-c471-412e-e771-76581c192abc"
      },
      "outputs": [
        {
          "output_type": "stream",
          "name": "stdout",
          "text": [
            "{'Name': 'Amazon River', 'Length': '6992 km', 'Countries': ['Brazil', 'Peru', 'Colombia'], 'Average discharge': '209,000 m³/s'}\n"
          ]
        }
      ],
      "source": [
        "river_dict = {\"Name\" : \"Amazon River\",\n",
        "              \"Length\" : \"6400 km\",\n",
        "              \"Countries\" : [\"Brazil\", \"Peru\", \"Colombia\"]}\n",
        "\n",
        "river_dict[\"Average discharge\"] = \"209,000 m³/s\"\n",
        "river_dict[\"Length\"] = \"6992 km\"\n",
        "print(river_dict)"
      ]
    },
    {
      "cell_type": "markdown",
      "metadata": {
        "id": "cd5ZZelCWFTw"
      },
      "source": [
        "## Exercise 7: Nested Data Structures\n",
        "\n",
        "Create a dictionary to represent a city that contains the city's name, population, and coordinates (latitude, longitude):\n",
        "\n",
        "- Name: \"Tokyo\"\n",
        "- Population: 13,515,271\n",
        "- Coordinates: (35.6895, 139.6917)\n",
        "\n",
        "Perform the following tasks:\n",
        "\n",
        "1. Access and print the population of the city.\n",
        "2. Access and print the city's latitude.\n",
        "3. Update the population to 14,000,000 and print the updated dictionary."
      ]
    },
    {
      "cell_type": "code",
      "execution_count": null,
      "metadata": {
        "id": "Qy_s5ZR1WFTw",
        "colab": {
          "base_uri": "https://localhost:8080/"
        },
        "outputId": "50eb4227-6dbc-4916-b599-2718fed640e2"
      },
      "outputs": [
        {
          "output_type": "stream",
          "name": "stdout",
          "text": [
            "13515271\n",
            "35.6895\n",
            "14000000\n"
          ]
        }
      ],
      "source": [
        "city_dict = {\"Name\" : \"Tokyo\",\n",
        "             \"Population\" : 13515271,\n",
        "             \"Coordinates\" : (35.6895, 139.6917)}\n",
        "\n",
        "print(city_dict.get(\"Population\"))\n",
        "print(city_dict.get(\"Coordinates\")[0])\n",
        "city_dict[\"Population\"] = 14000000\n",
        "print(city_dict.get(\"Population\"))"
      ]
    },
    {
      "cell_type": "markdown",
      "metadata": {
        "id": "sAJ8YiwiWFTw"
      },
      "source": [
        "## Exercise 8: List Operations\n",
        "\n",
        "Given the list of cities from Exercise 3, perform the following operations:\n",
        "\n",
        "1. Sort the list of cities alphabetically by name.\n",
        "2. Create a new list that contains only the city names.\n",
        "3. Remove the last city from the original list and print the updated list."
      ]
    },
    {
      "cell_type": "code",
      "execution_count": null,
      "metadata": {
        "id": "pKqivh2AWFTw",
        "colab": {
          "base_uri": "https://localhost:8080/"
        },
        "outputId": "037d56eb-3458-4099-a2cd-9f8af36dea8a"
      },
      "outputs": [
        {
          "output_type": "stream",
          "name": "stdout",
          "text": [
            "['Chicago', 'Los Angeles', 'Miami']\n"
          ]
        }
      ],
      "source": [
        "city_list.sort()\n",
        "new_city_list = [city_name[0] for city_name in city_list]\n",
        "new_city_list.pop(-1)\n",
        "print(new_city_list)"
      ]
    },
    {
      "cell_type": "markdown",
      "metadata": {
        "id": "EHlbc4-6WFTw"
      },
      "source": [
        "## Exercise 9: Dictionary Operations\n",
        "\n",
        "Using the dictionary from Exercise 6, perform the following tasks:\n",
        "\n",
        "1. Check if the key \"Length\" exists in the dictionary.\n",
        "2. Print all the keys in the dictionary.\n",
        "3. Print all the values in the dictionary."
      ]
    },
    {
      "cell_type": "code",
      "execution_count": null,
      "metadata": {
        "id": "k3NjqOJxWFTw",
        "colab": {
          "base_uri": "https://localhost:8080/"
        },
        "outputId": "93d54d77-fe7e-49e4-c198-f2f65d2b8982"
      },
      "outputs": [
        {
          "output_type": "stream",
          "name": "stdout",
          "text": [
            "6992 km\n",
            "dict_keys(['Name', 'Length', 'Countries', 'Average discharge'])\n",
            "dict_values(['Amazon River', '6992 km', ['Brazil', 'Peru', 'Colombia'], '209,000 m³/s'])\n"
          ]
        }
      ],
      "source": [
        "print(river_dict.get(\"Length\"))\n",
        "print(river_dict.keys())\n",
        "print(river_dict.values())"
      ]
    },
    {
      "cell_type": "markdown",
      "metadata": {
        "id": "WN4gd52qWFTw"
      },
      "source": [
        "## Exercise 10: Practical Application\n",
        "\n",
        "Imagine you have a list of tuples, each representing a location with its name, latitude, and longitude:"
      ]
    },
    {
      "cell_type": "code",
      "execution_count": null,
      "metadata": {
        "id": "ypDwBo9UWFTw"
      },
      "outputs": [],
      "source": [
        "locations = [\n",
        "    (\"Mount Everest\", 27.9881, 86.9250),\n",
        "    (\"K2\", 35.8808, 76.5155),\n",
        "    (\"Kangchenjunga\", 27.7025, 88.1475),\n",
        "]"
      ]
    },
    {
      "cell_type": "markdown",
      "metadata": {
        "id": "EedevYSuWFTx"
      },
      "source": [
        "Perform the following tasks:\n",
        "\n",
        "1. Create a new list that contains only the names of the locations.\n",
        "2. Create a dictionary where the keys are location names and the values are tuples of their coordinates.\n",
        "3. Print the latitude of \"K2\" using the dictionary."
      ]
    },
    {
      "cell_type": "code",
      "execution_count": null,
      "metadata": {
        "id": "ZMttz4JhWFTx",
        "colab": {
          "base_uri": "https://localhost:8080/"
        },
        "outputId": "6645201a-df29-4c55-8519-9f05dc3fd94b"
      },
      "outputs": [
        {
          "output_type": "stream",
          "name": "stdout",
          "text": [
            "['Mount Everest', 'K2', 'Kangchenjunga']\n",
            "35.8808\n"
          ]
        }
      ],
      "source": [
        "locations_list = [location[0] for location in locations]\n",
        "print(locations_list)\n",
        "coordinates_list = [(coordinates[1], coordinates[2]) for coordinates in locations]\n",
        "\n",
        "locations_dict = {k: v for k, v in zip(locations_list, coordinates_list)}\n",
        "print(locations_dict.get(\"K2\")[0])"
      ]
    },
    {
      "cell_type": "markdown",
      "metadata": {
        "id": "eGSaioX7WFTx"
      },
      "source": [
        "## Exercise 11: Manipulating Geographic Location Strings\n",
        "\n",
        "- Create a string that represents the name of a geographic feature (e.g., `\"Amazon River\"`).\n",
        "- Convert the string to lowercase and then to uppercase.\n",
        "- Concatenate the string with the name of the country (e.g., `\"Brazil\"`) to create a full location name.\n",
        "- Repeat the string three times, separating each repetition with a dash (`-`)."
      ]
    },
    {
      "cell_type": "code",
      "execution_count": null,
      "metadata": {
        "id": "TzpPXV7VWFTx",
        "colab": {
          "base_uri": "https://localhost:8080/",
          "height": 36
        },
        "outputId": "908a3065-3500-428b-d96d-bd8d90e51715"
      },
      "outputs": [
        {
          "output_type": "execute_result",
          "data": {
            "text/plain": [
              "'Amazon River, Brazil - Amazon River, Brazil - Amazon River, Brazil'"
            ],
            "application/vnd.google.colaboratory.intrinsic+json": {
              "type": "string"
            }
          },
          "metadata": {},
          "execution_count": 35
        }
      ],
      "source": [
        "str11 = \"Amazon River\"\n",
        "str11.lower()\n",
        "str11.upper()\n",
        "str11 = str11 + \", Brazil\"\n",
        "((str11 + \" - \" )* 3)[:-3]"
      ]
    },
    {
      "cell_type": "markdown",
      "metadata": {
        "id": "LaiEu0lFWFTx"
      },
      "source": [
        "## Exercise 12: Extracting and Formatting Coordinates\n",
        "\n",
        "- Given a string with the format `\"latitude, longitude\"` (e.g., `\"40.7128N, 74.0060W\"`), extract the numeric values of latitude and longitude.\n",
        "- Convert these values to floats and remove the directional indicators (`N`, `S`, `E`, `W`).\n",
        "- Format the coordinates into a `POINT` WKT string (e.g., `\"POINT(-74.0060 40.7128)\"`)."
      ]
    },
    {
      "cell_type": "code",
      "execution_count": null,
      "metadata": {
        "id": "twPvR2pSWFTx",
        "colab": {
          "base_uri": "https://localhost:8080/"
        },
        "outputId": "a6957ec3-28a3-406a-a985-d87f9a307402"
      },
      "outputs": [
        {
          "output_type": "stream",
          "name": "stdout",
          "text": [
            "POINT(-74.006 40.7128)\n"
          ]
        }
      ],
      "source": [
        "str12 = \"40.7128N, 74.0060W\"\n",
        "str12_latitude = float(str12.split(\",\")[0][:-1])\n",
        "str12_longitude = float(str12.split(\",\")[1][:-1]) * -1\n",
        "print(f\"POINT({str12_longitude} {str12_latitude})\")"
      ]
    },
    {
      "cell_type": "markdown",
      "metadata": {
        "id": "5dYVoCegWFTx"
      },
      "source": [
        "## Exercise 13: Building Dynamic SQL Queries\n",
        "\n",
        "- Given a table name and a condition, dynamically build an SQL query string.\n",
        "- Example: If `table_name = \"cities\"` and `condition = \"population > 1000000\"`, the query should be `\"SELECT * FROM cities WHERE population > 1000000;\"`.\n",
        "- Add additional conditions dynamically, like `AND` clauses."
      ]
    },
    {
      "cell_type": "code",
      "execution_count": null,
      "metadata": {
        "id": "IXMhoq-wWFTx",
        "colab": {
          "base_uri": "https://localhost:8080/"
        },
        "outputId": "c7a60e3d-ae99-48d7-8cd4-160a435bfd46"
      },
      "outputs": [
        {
          "output_type": "stream",
          "name": "stdout",
          "text": [
            "SELECT * FROM cities WHERE population > 1000000;\n",
            "SELECT * FROM cities WHERE population > 1000000 AND area > 10000;\n"
          ]
        }
      ],
      "source": [
        "table_name = \"cities\"\n",
        "condition = \"population > 1000000\"\n",
        "query = f\"SELECT * FROM {table_name} WHERE {condition};\"\n",
        "print(query)\n",
        "\n",
        "condition2 = \"area > 10000\"\n",
        "query = f\"SELECT * FROM {table_name} WHERE {condition} AND {condition2};\"\n",
        "print(query)"
      ]
    },
    {
      "cell_type": "markdown",
      "metadata": {
        "id": "gq5wXHNlWFTx"
      },
      "source": [
        "## Exercise 14: String Normalization and Cleaning\n",
        "\n",
        "- Given a list of city names with inconsistent formatting (e.g., `[\" new york \", \"Los ANGELES\", \"   CHICAGO\"]`), normalize the names by:\n",
        "  - Stripping any leading or trailing whitespace.\n",
        "  - Converting them to title case (e.g., `\"New York\"`, `\"Los Angeles\"`, `\"Chicago\"`).\n",
        "- Ensure that the output is a clean list of city names."
      ]
    },
    {
      "cell_type": "code",
      "execution_count": null,
      "metadata": {
        "id": "-hyOB8_YWFTy",
        "colab": {
          "base_uri": "https://localhost:8080/"
        },
        "outputId": "3734c402-ba88-4989-d1c1-f523ba42e93c"
      },
      "outputs": [
        {
          "output_type": "stream",
          "name": "stdout",
          "text": [
            "['New York', 'Los Angeles', 'Chicago']\n"
          ]
        }
      ],
      "source": [
        "raw_city_list = [\" new york \", \"Los ANGELES\", \"   CHICAGO\"]\n",
        "clean_city_list = [city.strip().title() for city in raw_city_list]\n",
        "print(clean_city_list)"
      ]
    },
    {
      "cell_type": "markdown",
      "metadata": {
        "id": "giLIoWLSWFTy"
      },
      "source": [
        "## Exercise 15: Parsing and Extracting Address Information\n",
        "\n",
        "- Given a string in the format `\"Street, City, Country\"` (e.g., `\"123 Main St, Springfield, USA\"`), write a function that parses the string into a dictionary with keys `street`, `city`, and `country`.\n",
        "- The function should return a dictionary like `{\"street\": \"123 Main St\", \"city\": \"Springfield\", \"country\": \"USA\"}`."
      ]
    },
    {
      "cell_type": "code",
      "execution_count": null,
      "metadata": {
        "id": "bEC_-QNuWFTy",
        "colab": {
          "base_uri": "https://localhost:8080/"
        },
        "outputId": "0de07a5e-ab97-4267-efdb-88bcecfea2d4"
      },
      "outputs": [
        {
          "output_type": "stream",
          "name": "stdout",
          "text": [
            "{'street': '123 Main St', 'city': 'Springfield', 'country': 'USA'}\n"
          ]
        }
      ],
      "source": [
        "str15 = \"123 Main St, Springfield, USA\"\n",
        "def parse_address(address):\n",
        "    street, city, country = address.split(\", \")\n",
        "    return {\"street\": street, \"city\": city, \"country\": country}\n",
        "\n",
        "dict_15 = parse_address(str15)\n",
        "print(dict_15)"
      ]
    },
    {
      "cell_type": "markdown",
      "metadata": {
        "id": "sO_CDToMWFTy"
      },
      "source": [
        "## Exercise 16: Using For Loops to Process Coordinate Lists\n",
        "\n",
        "- Create a list of tuples representing coordinates (latitude, longitude).\n",
        "- Write a `for` loop that prints each coordinate and indicates whether it is in the Northern or Southern Hemisphere based on the latitude."
      ]
    },
    {
      "cell_type": "code",
      "execution_count": null,
      "metadata": {
        "id": "7cLfdtmNWFTy",
        "colab": {
          "base_uri": "https://localhost:8080/"
        },
        "outputId": "d5a13b73-c278-45c6-d840-c4889ee00a73"
      },
      "outputs": [
        {
          "output_type": "stream",
          "name": "stdout",
          "text": [
            "(40.7128, -74.006) is in the Northern Hemisphere\n",
            "(34.0522, -118.2437) is in the Northern Hemisphere\n",
            "(41.8781, -87.6298) is in the Northern Hemisphere\n"
          ]
        }
      ],
      "source": [
        "coordinates_list_16 = [(40.7128, -74.0060), (34.0522, -118.2437), (41.8781, -87.6298)]\n",
        "for coordinate in coordinates_list_16:\n",
        "    if coordinate[0] >= 0:\n",
        "        print(f\"{coordinate} is in the Northern Hemisphere\")\n",
        "    else:\n",
        "        print(f\"{coordinate} is in the Southern Hemisphere\")"
      ]
    },
    {
      "cell_type": "markdown",
      "metadata": {
        "id": "rQebZU4eWFTy"
      },
      "source": [
        "## Exercise 17: While Loops for Iterative Processing\n",
        "\n",
        "- Create a list of coordinates (latitude, longitude).\n",
        "- Write a `while` loop that continues to print each coordinate until it encounters a coordinate with a negative latitude.\n",
        "- Stop the loop once this condition is met."
      ]
    },
    {
      "cell_type": "code",
      "execution_count": null,
      "metadata": {
        "id": "ITK7qoUIWFTy",
        "colab": {
          "base_uri": "https://localhost:8080/"
        },
        "outputId": "c7dbc30b-95b0-4bf4-e61c-660e2352a980"
      },
      "outputs": [
        {
          "output_type": "stream",
          "name": "stdout",
          "text": [
            "(40.7128, -74.006)\n"
          ]
        }
      ],
      "source": [
        "coordinates_list_17 = [(40.7128, -74.0060), (-34.0522, -118.2437), (41.8781, -87.6298)]\n",
        "i = 0\n",
        "while coordinates_list_17[i][0] >= 0:\n",
        "    print(coordinates_list_17[i])\n",
        "    i += 1"
      ]
    },
    {
      "cell_type": "markdown",
      "metadata": {
        "id": "bIgwyFriWFTy"
      },
      "source": [
        "## Exercise 18: Conditional Logic in Loops\n",
        "\n",
        "- Create a list of coordinates and use a `for` loop to iterate over them.\n",
        "- Use an `if-elif-else` statement inside the loop to classify each coordinate based on its longitude:\n",
        "  - Print `\"Eastern Hemisphere\"` if the longitude is greater than 0.\n",
        "  - Print `\"Western Hemisphere\"` if the longitude is less than 0."
      ]
    },
    {
      "cell_type": "code",
      "execution_count": null,
      "metadata": {
        "id": "_1aMuPygWFTy",
        "colab": {
          "base_uri": "https://localhost:8080/"
        },
        "outputId": "8d644075-fecb-450d-8d88-14edb10fbfa1"
      },
      "outputs": [
        {
          "output_type": "stream",
          "name": "stdout",
          "text": [
            "Western Hemisphere\n",
            "Western Hemisphere\n",
            "Eastern Hemisphere\n"
          ]
        }
      ],
      "source": [
        "coordinates_list_18 = [(40.7128, -74.0060), (-34.0522, -118.2437), (41.8781, 87.62)]\n",
        "for coordinate in coordinates_list_18:\n",
        "    if coordinate[1] > 0:\n",
        "        print(\"Eastern Hemisphere\")\n",
        "    elif coordinate[1] < 0:\n",
        "        print(\"Western Hemisphere\")"
      ]
    },
    {
      "cell_type": "markdown",
      "metadata": {
        "id": "iK53jQ_mWFT2"
      },
      "source": [
        "## Exercise 19: Filtering Data with Combined Loops and Conditionals\n",
        "\n",
        "- Given a list of coordinates, filter out and store only those located in the Southern Hemisphere (latitude < 0).\n",
        "- Count the number of coordinates that meet this condition and print the result."
      ]
    },
    {
      "cell_type": "code",
      "execution_count": null,
      "metadata": {
        "id": "yficF7r3WFT2",
        "colab": {
          "base_uri": "https://localhost:8080/"
        },
        "outputId": "6a6f9729-1bad-4db7-b427-60e14a149aed"
      },
      "outputs": [
        {
          "output_type": "stream",
          "name": "stdout",
          "text": [
            "1\n"
          ]
        }
      ],
      "source": [
        "coordinates_list_19 = [(40.7128, -74.0060), (-34.0522, -118.2437), (41.8781, -87.6298)]\n",
        "count = 0\n",
        "for coordinate in coordinates_list_19:\n",
        "    if coordinate[0] < 0:\n",
        "        count += 1\n",
        "print(count)"
      ]
    },
    {
      "cell_type": "markdown",
      "metadata": {
        "id": "0lI_EQKMWFT2"
      },
      "source": [
        "## Exercise 20: Generating and Analyzing Random Coordinates\n",
        "\n",
        "- Write a program that generates random coordinates (latitude between [-90, 90] degrees and longitude between [-180, 180] degrees).\n",
        "- Use a `while` loop to keep generating coordinates until a pair with both latitude and longitude greater than 50 is generated.\n",
        "- Print each generated coordinate and the final coordinate that meets the condition."
      ]
    },
    {
      "cell_type": "code",
      "execution_count": null,
      "metadata": {
        "id": "3ElEqbT_WFT2",
        "colab": {
          "base_uri": "https://localhost:8080/"
        },
        "outputId": "e9e422a5-d049-4e1d-91ed-799c0d7ab48d"
      },
      "outputs": [
        {
          "output_type": "stream",
          "name": "stdout",
          "text": [
            "(63.23681272538499, 27.829140655693777)\n",
            "(86.22186052681855, 17.093597934879966)\n",
            "(-71.94064901005139, -19.684734597608355)\n",
            "(-33.00938789263685, -38.082780953941636)\n",
            "(-0.11290528022118451, -165.24976175931863)\n",
            "(53.839234571065475, 160.97878027100336)\n"
          ]
        }
      ],
      "source": [
        "import random\n",
        "\n",
        "def generate_random_coordinate():\n",
        "    return (random.uniform(-90, 90), random.uniform(-180, 180))\n",
        "\n",
        "while True:\n",
        "    random_coordinate = generate_random_coordinate()\n",
        "    if random_coordinate[0] > 50 and random_coordinate[1] > 50:\n",
        "        print(random_coordinate)\n",
        "        break\n",
        "    else:\n",
        "        print(random_coordinate)\n",
        "\n"
      ]
    },
    {
      "cell_type": "code",
      "source": [],
      "metadata": {
        "id": "Hu5QeIP4ByXs"
      },
      "execution_count": null,
      "outputs": []
    }
  ],
  "metadata": {
    "kernelspec": {
      "display_name": "Python 3 (ipykernel)",
      "language": "python",
      "name": "python3"
    },
    "language_info": {
      "codemirror_mode": {
        "name": "ipython",
        "version": 3
      },
      "file_extension": ".py",
      "mimetype": "text/x-python",
      "name": "python",
      "nbconvert_exporter": "python",
      "pygments_lexer": "ipython3",
      "version": "3.12.2"
    },
    "colab": {
      "provenance": []
    }
  },
  "nbformat": 4,
  "nbformat_minor": 0
}